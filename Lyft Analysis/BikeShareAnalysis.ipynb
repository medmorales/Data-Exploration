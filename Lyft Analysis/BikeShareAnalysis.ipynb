{
 "cells": [
  {
   "cell_type": "markdown",
   "id": "447fd55c",
   "metadata": {},
   "source": [
    "# I. Intro\n",
    "\n",
    "#### The purpose of this analysis is to perform an exploratory data analysis on bike sharing data. We will be creating statistics from the dataset as well as looking at the trends."
   ]
  },
  {
   "cell_type": "markdown",
   "id": "b0f5fa7a",
   "metadata": {},
   "source": [
    "#### Imports"
   ]
  },
  {
   "cell_type": "code",
   "execution_count": 1,
   "id": "f23f501f",
   "metadata": {},
   "outputs": [],
   "source": [
    "# for data wrangling\n",
    "import pandas as pd\n",
    "import numpy as np\n",
    "\n",
    "# for data visualization\n",
    "import seaborn as sns\n",
    "import matplotlib.pyplot as plt"
   ]
  },
  {
   "cell_type": "markdown",
   "id": "41f7e659",
   "metadata": {},
   "source": [
    "## II. Data"
   ]
  },
  {
   "cell_type": "markdown",
   "id": "1a7def5f",
   "metadata": {},
   "source": [
    "#### Importing Bike Sharing Dataset"
   ]
  },
  {
   "cell_type": "code",
   "execution_count": 2,
   "id": "db811672",
   "metadata": {},
   "outputs": [
    {
     "data": {
      "text/html": [
       "<div>\n",
       "<style scoped>\n",
       "    .dataframe tbody tr th:only-of-type {\n",
       "        vertical-align: middle;\n",
       "    }\n",
       "\n",
       "    .dataframe tbody tr th {\n",
       "        vertical-align: top;\n",
       "    }\n",
       "\n",
       "    .dataframe thead th {\n",
       "        text-align: right;\n",
       "    }\n",
       "</style>\n",
       "<table border=\"1\" class=\"dataframe\">\n",
       "  <thead>\n",
       "    <tr style=\"text-align: right;\">\n",
       "      <th></th>\n",
       "      <th>ride_id</th>\n",
       "      <th>rideable_type</th>\n",
       "      <th>started_at</th>\n",
       "      <th>ended_at</th>\n",
       "      <th>start_station_name</th>\n",
       "      <th>start_station_id</th>\n",
       "      <th>end_station_name</th>\n",
       "      <th>end_station_id</th>\n",
       "      <th>start_lat</th>\n",
       "      <th>start_lng</th>\n",
       "      <th>end_lat</th>\n",
       "      <th>end_lng</th>\n",
       "      <th>member_casual</th>\n",
       "    </tr>\n",
       "  </thead>\n",
       "  <tbody>\n",
       "    <tr>\n",
       "      <th>0</th>\n",
       "      <td>A67CB6CC130B48AB</td>\n",
       "      <td>electric_bike</td>\n",
       "      <td>2021-08-07 13:30:11</td>\n",
       "      <td>2021-08-07 14:08:57</td>\n",
       "      <td>S Van Ness Ave at Market St</td>\n",
       "      <td>SF-J23-2</td>\n",
       "      <td>The Embarcadero at Bryant St</td>\n",
       "      <td>SF-G30-2</td>\n",
       "      <td>37.774554</td>\n",
       "      <td>-122.419896</td>\n",
       "      <td>37.787410</td>\n",
       "      <td>-122.388207</td>\n",
       "      <td>member</td>\n",
       "    </tr>\n",
       "    <tr>\n",
       "      <th>1</th>\n",
       "      <td>EA6D1C08FB8D1751</td>\n",
       "      <td>classic_bike</td>\n",
       "      <td>2021-08-16 18:34:12</td>\n",
       "      <td>2021-08-16 18:34:14</td>\n",
       "      <td>7th Ave at Cabrillo St</td>\n",
       "      <td>SF-J12</td>\n",
       "      <td>7th Ave at Cabrillo St</td>\n",
       "      <td>SF-J12</td>\n",
       "      <td>37.775120</td>\n",
       "      <td>-122.464998</td>\n",
       "      <td>37.775120</td>\n",
       "      <td>-122.464998</td>\n",
       "      <td>member</td>\n",
       "    </tr>\n",
       "    <tr>\n",
       "      <th>2</th>\n",
       "      <td>91E70C07BFA0BAED</td>\n",
       "      <td>electric_bike</td>\n",
       "      <td>2021-08-31 18:28:04</td>\n",
       "      <td>2021-08-31 19:12:40</td>\n",
       "      <td>7th Ave at Cabrillo St</td>\n",
       "      <td>SF-J12</td>\n",
       "      <td>7th Ave at Cabrillo St</td>\n",
       "      <td>SF-J12</td>\n",
       "      <td>37.775129</td>\n",
       "      <td>-122.464995</td>\n",
       "      <td>37.775115</td>\n",
       "      <td>-122.465001</td>\n",
       "      <td>member</td>\n",
       "    </tr>\n",
       "    <tr>\n",
       "      <th>3</th>\n",
       "      <td>1A5E792757C33356</td>\n",
       "      <td>electric_bike</td>\n",
       "      <td>2021-08-10 17:52:44</td>\n",
       "      <td>2021-08-10 18:02:46</td>\n",
       "      <td>23rd St at Tennessee St</td>\n",
       "      <td>SF-Q30</td>\n",
       "      <td>McKinnon Ave at 3rd St</td>\n",
       "      <td>SF-W29</td>\n",
       "      <td>37.755349</td>\n",
       "      <td>-122.388703</td>\n",
       "      <td>37.736519</td>\n",
       "      <td>-122.389884</td>\n",
       "      <td>member</td>\n",
       "    </tr>\n",
       "    <tr>\n",
       "      <th>4</th>\n",
       "      <td>B2EA7B7711640610</td>\n",
       "      <td>electric_bike</td>\n",
       "      <td>2021-08-11 18:01:21</td>\n",
       "      <td>2021-08-11 18:09:37</td>\n",
       "      <td>23rd St at Tennessee St</td>\n",
       "      <td>SF-Q30</td>\n",
       "      <td>McKinnon Ave at 3rd St</td>\n",
       "      <td>SF-W29</td>\n",
       "      <td>37.755397</td>\n",
       "      <td>-122.388636</td>\n",
       "      <td>37.736311</td>\n",
       "      <td>-122.389896</td>\n",
       "      <td>member</td>\n",
       "    </tr>\n",
       "  </tbody>\n",
       "</table>\n",
       "</div>"
      ],
      "text/plain": [
       "            ride_id  rideable_type           started_at             ended_at  \\\n",
       "0  A67CB6CC130B48AB  electric_bike  2021-08-07 13:30:11  2021-08-07 14:08:57   \n",
       "1  EA6D1C08FB8D1751   classic_bike  2021-08-16 18:34:12  2021-08-16 18:34:14   \n",
       "2  91E70C07BFA0BAED  electric_bike  2021-08-31 18:28:04  2021-08-31 19:12:40   \n",
       "3  1A5E792757C33356  electric_bike  2021-08-10 17:52:44  2021-08-10 18:02:46   \n",
       "4  B2EA7B7711640610  electric_bike  2021-08-11 18:01:21  2021-08-11 18:09:37   \n",
       "\n",
       "            start_station_name start_station_id              end_station_name  \\\n",
       "0  S Van Ness Ave at Market St         SF-J23-2  The Embarcadero at Bryant St   \n",
       "1       7th Ave at Cabrillo St           SF-J12        7th Ave at Cabrillo St   \n",
       "2       7th Ave at Cabrillo St           SF-J12        7th Ave at Cabrillo St   \n",
       "3      23rd St at Tennessee St           SF-Q30        McKinnon Ave at 3rd St   \n",
       "4      23rd St at Tennessee St           SF-Q30        McKinnon Ave at 3rd St   \n",
       "\n",
       "  end_station_id  start_lat   start_lng    end_lat     end_lng member_casual  \n",
       "0       SF-G30-2  37.774554 -122.419896  37.787410 -122.388207        member  \n",
       "1         SF-J12  37.775120 -122.464998  37.775120 -122.464998        member  \n",
       "2         SF-J12  37.775129 -122.464995  37.775115 -122.465001        member  \n",
       "3         SF-W29  37.755349 -122.388703  37.736519 -122.389884        member  \n",
       "4         SF-W29  37.755397 -122.388636  37.736311 -122.389896        member  "
      ]
     },
     "execution_count": 2,
     "metadata": {},
     "output_type": "execute_result"
    }
   ],
   "source": [
    "# csv file is in my working directory, no path is needed\n",
    "sharedf = pd.read_csv('202108-baywheels-tripdata.csv')\n",
    "\n",
    "# head of my dataset\n",
    "sharedf.head()"
   ]
  },
  {
   "cell_type": "markdown",
   "id": "be7f6374",
   "metadata": {},
   "source": [
    "Taking an intial look at the data, we can see that we are looking at the start and end location and times of bike sharing in San Fancisco. We also have the start/end latituade and longitude. The data set also contains information about the type of bike and user for each trip as well as the trips unique id. "
   ]
  },
  {
   "cell_type": "markdown",
   "id": "9411e7d8",
   "metadata": {},
   "source": [
    "* ride_id: unique id for each bike trip\n",
    "* rideable_type: type of bike being used (electric_bike, classic_bike, dicked_bike)\n",
    "* started_at: start time of bike trip given in year-month-day hour:minute:seconds\n",
    "* ended_at: end time of bike trip given in year-month-day hour:minute:seconds\n",
    "* start_station_name: address at the start of the bike trip\n",
    "* start_station_id: id given to the start_station_name \n",
    "* end_station_name: address at the end of the bike trip\n",
    "* end_station_id: id given to the end_station_name\n",
    "* start_lat: latitude coordinate at initial start time\n",
    "* start_lng: longitude coordinate at initial start time\n",
    "* end_lat: latitude coordinate at initial end time\n",
    "* end_lng: longitude coordinate at initial end time\n",
    "* member_casual: User Type (Subscriber or Customer – “Subscriber” = Member or “Customer” = Casual)"
   ]
  },
  {
   "cell_type": "markdown",
   "id": "1849b99c",
   "metadata": {},
   "source": [
    "#### Time Frame of Data"
   ]
  },
  {
   "cell_type": "code",
   "execution_count": 3,
   "id": "3aef3508",
   "metadata": {},
   "outputs": [
    {
     "name": "stdout",
     "output_type": "stream",
     "text": [
      "First bike ride: 2021-08-01 00:00:25 and the last ride at: 2021-08-31 23:59:58\n"
     ]
    }
   ],
   "source": [
    "# What is the time frame of our data?\n",
    "print('First bike ride: '+ str(sharedf.started_at.min())+ \n",
    "      ' and the last ride at: '+ str(sharedf.started_at.max()))"
   ]
  },
  {
   "cell_type": "markdown",
   "id": "4deb9a4e",
   "metadata": {},
   "source": [
    "Now we know that we are looking at bike share data only from August 2021."
   ]
  },
  {
   "cell_type": "markdown",
   "id": "7221d6c4",
   "metadata": {},
   "source": [
    "#### # of Overall Rides"
   ]
  },
  {
   "cell_type": "code",
   "execution_count": 4,
   "id": "d8abf71d",
   "metadata": {},
   "outputs": [
    {
     "data": {
      "text/plain": [
       "(207023, 13)"
      ]
     },
     "execution_count": 4,
     "metadata": {},
     "output_type": "execute_result"
    }
   ],
   "source": [
    "# shape of dataframe\n",
    "sharedf.shape"
   ]
  },
  {
   "cell_type": "markdown",
   "id": "1a541527",
   "metadata": {},
   "source": [
    "Here, we are just taking a look at the the shape of the dataframe. It has 13 columns and 207,023 rows. That means that there was 207,023 bike share rides in the month of August. "
   ]
  },
  {
   "cell_type": "markdown",
   "id": "b3310bb3",
   "metadata": {},
   "source": [
    "#### Data Types of Columns\n"
   ]
  },
  {
   "cell_type": "code",
   "execution_count": 5,
   "id": "9f63d2c1",
   "metadata": {},
   "outputs": [
    {
     "data": {
      "text/plain": [
       "ride_id                object\n",
       "rideable_type          object\n",
       "started_at             object\n",
       "ended_at               object\n",
       "start_station_name     object\n",
       "start_station_id       object\n",
       "end_station_name       object\n",
       "end_station_id         object\n",
       "start_lat             float64\n",
       "start_lng             float64\n",
       "end_lat               float64\n",
       "end_lng               float64\n",
       "member_casual          object\n",
       "dtype: object"
      ]
     },
     "execution_count": 5,
     "metadata": {},
     "output_type": "execute_result"
    }
   ],
   "source": [
    "# looking at data types\n",
    "sharedf.dtypes"
   ]
  },
  {
   "cell_type": "markdown",
   "id": "30cd2757",
   "metadata": {},
   "source": [
    "Looking at the data types, initially, I see that I need to covert the started_at and ended_at object variables into time stamps in order to calculate the duration of the bike rides. I will look into this when I begin cleaning up the dataset later on. "
   ]
  },
  {
   "cell_type": "markdown",
   "id": "907e90b3",
   "metadata": {},
   "source": [
    "#### Missing Values"
   ]
  },
  {
   "cell_type": "code",
   "execution_count": 6,
   "id": "5fccbd37",
   "metadata": {},
   "outputs": [
    {
     "data": {
      "text/plain": [
       "ride_id                   0\n",
       "rideable_type             0\n",
       "started_at                0\n",
       "ended_at                  0\n",
       "start_station_name    40212\n",
       "start_station_id      40212\n",
       "end_station_name      44311\n",
       "end_station_id        44311\n",
       "start_lat                 0\n",
       "start_lng                 0\n",
       "end_lat                 276\n",
       "end_lng                 276\n",
       "member_casual             0\n",
       "dtype: int64"
      ]
     },
     "execution_count": 6,
     "metadata": {},
     "output_type": "execute_result"
    }
   ],
   "source": [
    "# checking for nulls by column name\n",
    "sharedf.isnull().sum()"
   ]
  },
  {
   "cell_type": "markdown",
   "id": "67704a12",
   "metadata": {},
   "source": [
    "We can see that start_station_name, start_station_id, end_station_name, and end_stations_id have a significant number of missing values. There are also a few missing values in the end latitude and longitude columns. "
   ]
  },
  {
   "cell_type": "markdown",
   "id": "66a5823a",
   "metadata": {},
   "source": [
    "## III. Data Cleaning"
   ]
  },
  {
   "cell_type": "markdown",
   "id": "952c21f5",
   "metadata": {},
   "source": [
    "#### Changing time strings to date stamps "
   ]
  },
  {
   "cell_type": "markdown",
   "id": "b296a5c2",
   "metadata": {},
   "source": [
    "In order to extract further information from the start and end times, we will change the data type of these columns from an object to a datetime."
   ]
  },
  {
   "cell_type": "code",
   "execution_count": 7,
   "id": "1f6dccf6",
   "metadata": {},
   "outputs": [],
   "source": [
    "# changing time strings to timestamps\n",
    "sharedf['started_at'] = pd.to_datetime(sharedf['started_at'])\n",
    "sharedf['ended_at'] = pd.to_datetime(sharedf['ended_at'])"
   ]
  },
  {
   "cell_type": "code",
   "execution_count": 8,
   "id": "5cc4b61e",
   "metadata": {},
   "outputs": [
    {
     "data": {
      "text/plain": [
       "ride_id                       object\n",
       "rideable_type                 object\n",
       "started_at            datetime64[ns]\n",
       "ended_at              datetime64[ns]\n",
       "start_station_name            object\n",
       "start_station_id              object\n",
       "end_station_name              object\n",
       "end_station_id                object\n",
       "start_lat                    float64\n",
       "start_lng                    float64\n",
       "end_lat                      float64\n",
       "end_lng                      float64\n",
       "member_casual                 object\n",
       "dtype: object"
      ]
     },
     "execution_count": 8,
     "metadata": {},
     "output_type": "execute_result"
    }
   ],
   "source": [
    "# updated data types\n",
    "sharedf.dtypes"
   ]
  },
  {
   "cell_type": "markdown",
   "id": "d9f3c356",
   "metadata": {},
   "source": [
    "#### Creating hour and day columns"
   ]
  },
  {
   "cell_type": "markdown",
   "id": "b548cc88",
   "metadata": {},
   "source": [
    "Now using the modified columns, we will now extract the hour and day to create new columns for easier analysis later on. We will only be looking at the start hour and day to keep it simple."
   ]
  },
  {
   "cell_type": "code",
   "execution_count": 9,
   "id": "cf3062c6",
   "metadata": {},
   "outputs": [],
   "source": [
    "# extracting the start hour of the trip\n",
    "sharedf['started_hour']= sharedf['started_at'].dt.hour\n",
    "\n",
    "# extracting the start name of the trip\n",
    "sharedf['started_day']= sharedf['started_at'].dt.day_name()"
   ]
  },
  {
   "cell_type": "markdown",
   "id": "ccc4bde5",
   "metadata": {},
   "source": [
    "#### Calculating Duration"
   ]
  },
  {
   "cell_type": "markdown",
   "id": "0f0604f4",
   "metadata": {},
   "source": [
    "Now lets create a new column which is the duration of the bike rides...."
   ]
  },
  {
   "cell_type": "code",
   "execution_count": 10,
   "id": "39cc60f3",
   "metadata": {},
   "outputs": [],
   "source": [
    "# calcualting duration of ride\n",
    "sharedf['duration'] = sharedf['ended_at']-sharedf['started_at']"
   ]
  },
  {
   "cell_type": "markdown",
   "id": "9768618b",
   "metadata": {},
   "source": [
    "#### Negative Duration Trips \n"
   ]
  },
  {
   "cell_type": "markdown",
   "id": "a04f931b",
   "metadata": {},
   "source": [
    "When calculating duration statistics, I came across the shortest ride duration being a negtive time. This is the result of 'ended_at' times, being before 'started_at' times which is impossible. This raises the question if there are other negative time durations. Lets investigate....."
   ]
  },
  {
   "cell_type": "code",
   "execution_count": 11,
   "id": "1bdec28f",
   "metadata": {
    "scrolled": true
   },
   "outputs": [
    {
     "data": {
      "text/html": [
       "<div>\n",
       "<style scoped>\n",
       "    .dataframe tbody tr th:only-of-type {\n",
       "        vertical-align: middle;\n",
       "    }\n",
       "\n",
       "    .dataframe tbody tr th {\n",
       "        vertical-align: top;\n",
       "    }\n",
       "\n",
       "    .dataframe thead th {\n",
       "        text-align: right;\n",
       "    }\n",
       "</style>\n",
       "<table border=\"1\" class=\"dataframe\">\n",
       "  <thead>\n",
       "    <tr style=\"text-align: right;\">\n",
       "      <th></th>\n",
       "      <th>ride_id</th>\n",
       "      <th>rideable_type</th>\n",
       "      <th>started_at</th>\n",
       "      <th>ended_at</th>\n",
       "      <th>start_station_name</th>\n",
       "      <th>start_station_id</th>\n",
       "      <th>end_station_name</th>\n",
       "      <th>end_station_id</th>\n",
       "      <th>start_lat</th>\n",
       "      <th>start_lng</th>\n",
       "      <th>end_lat</th>\n",
       "      <th>end_lng</th>\n",
       "      <th>member_casual</th>\n",
       "      <th>started_hour</th>\n",
       "      <th>started_day</th>\n",
       "      <th>duration</th>\n",
       "    </tr>\n",
       "  </thead>\n",
       "  <tbody>\n",
       "    <tr>\n",
       "      <th>7043</th>\n",
       "      <td>924385CCDC8AF804</td>\n",
       "      <td>electric_bike</td>\n",
       "      <td>2021-08-28 11:04:33</td>\n",
       "      <td>2021-08-28 11:04:31</td>\n",
       "      <td>The Embarcadero at Sansome St</td>\n",
       "      <td>SF-A27</td>\n",
       "      <td>The Embarcadero at Sansome St</td>\n",
       "      <td>SF-A27</td>\n",
       "      <td>37.804783</td>\n",
       "      <td>-122.403359</td>\n",
       "      <td>37.804806</td>\n",
       "      <td>-122.403362</td>\n",
       "      <td>member</td>\n",
       "      <td>11</td>\n",
       "      <td>Saturday</td>\n",
       "      <td>-1 days +23:59:58</td>\n",
       "    </tr>\n",
       "    <tr>\n",
       "      <th>17607</th>\n",
       "      <td>22ECA866EE266446</td>\n",
       "      <td>classic_bike</td>\n",
       "      <td>2021-08-31 21:00:01</td>\n",
       "      <td>2021-08-31 21:00:00</td>\n",
       "      <td>7th Ave at Clement St</td>\n",
       "      <td>SF-G12</td>\n",
       "      <td>7th Ave at Clement St</td>\n",
       "      <td>SF-G12</td>\n",
       "      <td>37.782439</td>\n",
       "      <td>-122.465377</td>\n",
       "      <td>37.782439</td>\n",
       "      <td>-122.465377</td>\n",
       "      <td>member</td>\n",
       "      <td>21</td>\n",
       "      <td>Tuesday</td>\n",
       "      <td>-1 days +23:59:59</td>\n",
       "    </tr>\n",
       "    <tr>\n",
       "      <th>136129</th>\n",
       "      <td>C1A862723457BB5F</td>\n",
       "      <td>electric_bike</td>\n",
       "      <td>2021-08-13 17:11:37</td>\n",
       "      <td>2021-08-13 17:08:44</td>\n",
       "      <td>NaN</td>\n",
       "      <td>NaN</td>\n",
       "      <td>Koshland Park</td>\n",
       "      <td>SF-K21</td>\n",
       "      <td>37.770000</td>\n",
       "      <td>-122.430000</td>\n",
       "      <td>37.773482</td>\n",
       "      <td>-122.427136</td>\n",
       "      <td>casual</td>\n",
       "      <td>17</td>\n",
       "      <td>Friday</td>\n",
       "      <td>-1 days +23:57:07</td>\n",
       "    </tr>\n",
       "    <tr>\n",
       "      <th>148962</th>\n",
       "      <td>9F43201C50AC9784</td>\n",
       "      <td>classic_bike</td>\n",
       "      <td>2021-08-13 19:50:42</td>\n",
       "      <td>2021-08-13 19:50:41</td>\n",
       "      <td>Howard St at 8th St</td>\n",
       "      <td>SF-J25</td>\n",
       "      <td>Howard St at 8th St</td>\n",
       "      <td>SF-J25</td>\n",
       "      <td>37.776513</td>\n",
       "      <td>-122.411306</td>\n",
       "      <td>37.776513</td>\n",
       "      <td>-122.411306</td>\n",
       "      <td>member</td>\n",
       "      <td>19</td>\n",
       "      <td>Friday</td>\n",
       "      <td>-1 days +23:59:59</td>\n",
       "    </tr>\n",
       "    <tr>\n",
       "      <th>194684</th>\n",
       "      <td>3D8032FC29DBFA41</td>\n",
       "      <td>electric_bike</td>\n",
       "      <td>2021-08-30 07:22:07</td>\n",
       "      <td>2021-08-30 07:21:26</td>\n",
       "      <td>NaN</td>\n",
       "      <td>NaN</td>\n",
       "      <td>NaN</td>\n",
       "      <td>NaN</td>\n",
       "      <td>37.750000</td>\n",
       "      <td>-122.420000</td>\n",
       "      <td>37.750000</td>\n",
       "      <td>-122.420000</td>\n",
       "      <td>member</td>\n",
       "      <td>7</td>\n",
       "      <td>Monday</td>\n",
       "      <td>-1 days +23:59:19</td>\n",
       "    </tr>\n",
       "  </tbody>\n",
       "</table>\n",
       "</div>"
      ],
      "text/plain": [
       "                 ride_id  rideable_type          started_at  \\\n",
       "7043    924385CCDC8AF804  electric_bike 2021-08-28 11:04:33   \n",
       "17607   22ECA866EE266446   classic_bike 2021-08-31 21:00:01   \n",
       "136129  C1A862723457BB5F  electric_bike 2021-08-13 17:11:37   \n",
       "148962  9F43201C50AC9784   classic_bike 2021-08-13 19:50:42   \n",
       "194684  3D8032FC29DBFA41  electric_bike 2021-08-30 07:22:07   \n",
       "\n",
       "                  ended_at             start_station_name start_station_id  \\\n",
       "7043   2021-08-28 11:04:31  The Embarcadero at Sansome St           SF-A27   \n",
       "17607  2021-08-31 21:00:00          7th Ave at Clement St           SF-G12   \n",
       "136129 2021-08-13 17:08:44                            NaN              NaN   \n",
       "148962 2021-08-13 19:50:41            Howard St at 8th St           SF-J25   \n",
       "194684 2021-08-30 07:21:26                            NaN              NaN   \n",
       "\n",
       "                     end_station_name end_station_id  start_lat   start_lng  \\\n",
       "7043    The Embarcadero at Sansome St         SF-A27  37.804783 -122.403359   \n",
       "17607           7th Ave at Clement St         SF-G12  37.782439 -122.465377   \n",
       "136129                  Koshland Park         SF-K21  37.770000 -122.430000   \n",
       "148962            Howard St at 8th St         SF-J25  37.776513 -122.411306   \n",
       "194684                            NaN            NaN  37.750000 -122.420000   \n",
       "\n",
       "          end_lat     end_lng member_casual  started_hour started_day  \\\n",
       "7043    37.804806 -122.403362        member            11    Saturday   \n",
       "17607   37.782439 -122.465377        member            21     Tuesday   \n",
       "136129  37.773482 -122.427136        casual            17      Friday   \n",
       "148962  37.776513 -122.411306        member            19      Friday   \n",
       "194684  37.750000 -122.420000        member             7      Monday   \n",
       "\n",
       "                duration  \n",
       "7043   -1 days +23:59:58  \n",
       "17607  -1 days +23:59:59  \n",
       "136129 -1 days +23:57:07  \n",
       "148962 -1 days +23:59:59  \n",
       "194684 -1 days +23:59:19  "
      ]
     },
     "execution_count": 11,
     "metadata": {},
     "output_type": "execute_result"
    }
   ],
   "source": [
    "# finding rows that where the end time is before the start time\n",
    "sharedf.query('started_at>ended_at')"
   ]
  },
  {
   "cell_type": "markdown",
   "id": "0691d5e5",
   "metadata": {},
   "source": [
    "We found five rows with impossible times. Although their durations are only a few minutes and would have very little affect on estimations later on, lets delete these rows from the dataframe so that they do not affect the duration statistics, even if minimally. "
   ]
  },
  {
   "cell_type": "code",
   "execution_count": 12,
   "id": "38018a7e",
   "metadata": {},
   "outputs": [],
   "source": [
    "# ride_id of  the rows above with negative durations\n",
    "neg_dur = ['924385CCDC8AF804','22ECA866EE266446','C1A862723457BB5F','9F43201C50AC9784','3D8032FC29DBFA41']\n",
    "\n",
    "# updated dataframe without these rows\n",
    "sharedf=sharedf[~sharedf['ride_id'].isin(neg_dur)]"
   ]
  },
  {
   "cell_type": "markdown",
   "id": "0202d57e",
   "metadata": {},
   "source": [
    "Dataframe no longer has these five rows. "
   ]
  },
  {
   "cell_type": "code",
   "execution_count": 13,
   "id": "bb78f5ec",
   "metadata": {},
   "outputs": [
    {
     "data": {
      "text/plain": [
       "(207018, 16)"
      ]
     },
     "execution_count": 13,
     "metadata": {},
     "output_type": "execute_result"
    }
   ],
   "source": [
    "sharedf.shape"
   ]
  },
  {
   "cell_type": "markdown",
   "id": "c606dc72",
   "metadata": {},
   "source": [
    "#### Zero Duration Trips"
   ]
  },
  {
   "cell_type": "markdown",
   "id": "17c08db1",
   "metadata": {},
   "source": [
    "In conducting the exploratory analysis I also came across trips that lasted 0 seconds. Lets investigate how many of these trips there are. We will delete these rows from the data set as well. "
   ]
  },
  {
   "cell_type": "code",
   "execution_count": 14,
   "id": "f657a1ca",
   "metadata": {},
   "outputs": [
    {
     "data": {
      "text/html": [
       "<div>\n",
       "<style scoped>\n",
       "    .dataframe tbody tr th:only-of-type {\n",
       "        vertical-align: middle;\n",
       "    }\n",
       "\n",
       "    .dataframe tbody tr th {\n",
       "        vertical-align: top;\n",
       "    }\n",
       "\n",
       "    .dataframe thead th {\n",
       "        text-align: right;\n",
       "    }\n",
       "</style>\n",
       "<table border=\"1\" class=\"dataframe\">\n",
       "  <thead>\n",
       "    <tr style=\"text-align: right;\">\n",
       "      <th></th>\n",
       "      <th>ride_id</th>\n",
       "      <th>rideable_type</th>\n",
       "      <th>started_at</th>\n",
       "      <th>ended_at</th>\n",
       "      <th>start_station_name</th>\n",
       "      <th>start_station_id</th>\n",
       "      <th>end_station_name</th>\n",
       "      <th>end_station_id</th>\n",
       "      <th>start_lat</th>\n",
       "      <th>start_lng</th>\n",
       "      <th>end_lat</th>\n",
       "      <th>end_lng</th>\n",
       "      <th>member_casual</th>\n",
       "      <th>started_hour</th>\n",
       "      <th>started_day</th>\n",
       "      <th>duration</th>\n",
       "    </tr>\n",
       "  </thead>\n",
       "  <tbody>\n",
       "    <tr>\n",
       "      <th>2949</th>\n",
       "      <td>5D17AE4971878762</td>\n",
       "      <td>electric_bike</td>\n",
       "      <td>2021-08-02 21:35:20</td>\n",
       "      <td>2021-08-02 21:35:20</td>\n",
       "      <td>22nd St Caltrain Station</td>\n",
       "      <td>SF-P30</td>\n",
       "      <td>22nd St Caltrain Station</td>\n",
       "      <td>SF-P30</td>\n",
       "      <td>37.757678</td>\n",
       "      <td>-122.391961</td>\n",
       "      <td>37.757654</td>\n",
       "      <td>-122.391940</td>\n",
       "      <td>casual</td>\n",
       "      <td>21</td>\n",
       "      <td>Monday</td>\n",
       "      <td>0 days</td>\n",
       "    </tr>\n",
       "    <tr>\n",
       "      <th>11672</th>\n",
       "      <td>7947DFCA39279AF5</td>\n",
       "      <td>classic_bike</td>\n",
       "      <td>2021-08-15 13:58:55</td>\n",
       "      <td>2021-08-15 13:58:55</td>\n",
       "      <td>S Park St at 3rd St</td>\n",
       "      <td>SF-I29-2</td>\n",
       "      <td>S Park St at 3rd St</td>\n",
       "      <td>SF-I29-2</td>\n",
       "      <td>37.780760</td>\n",
       "      <td>-122.394989</td>\n",
       "      <td>37.780760</td>\n",
       "      <td>-122.394989</td>\n",
       "      <td>member</td>\n",
       "      <td>13</td>\n",
       "      <td>Sunday</td>\n",
       "      <td>0 days</td>\n",
       "    </tr>\n",
       "    <tr>\n",
       "      <th>17667</th>\n",
       "      <td>98F57167E5EFCC3D</td>\n",
       "      <td>electric_bike</td>\n",
       "      <td>2021-08-13 10:43:37</td>\n",
       "      <td>2021-08-13 10:43:37</td>\n",
       "      <td>Ryland Park</td>\n",
       "      <td>SJ-K9</td>\n",
       "      <td>Ryland Park</td>\n",
       "      <td>SJ-K9</td>\n",
       "      <td>37.342758</td>\n",
       "      <td>-121.895668</td>\n",
       "      <td>37.342768</td>\n",
       "      <td>-121.895672</td>\n",
       "      <td>member</td>\n",
       "      <td>10</td>\n",
       "      <td>Friday</td>\n",
       "      <td>0 days</td>\n",
       "    </tr>\n",
       "    <tr>\n",
       "      <th>27970</th>\n",
       "      <td>9313D4305D6083E4</td>\n",
       "      <td>classic_bike</td>\n",
       "      <td>2021-08-04 16:48:25</td>\n",
       "      <td>2021-08-04 16:48:25</td>\n",
       "      <td>Duboce Park</td>\n",
       "      <td>SF-L19</td>\n",
       "      <td>Duboce Park</td>\n",
       "      <td>SF-L19</td>\n",
       "      <td>37.769223</td>\n",
       "      <td>-122.434062</td>\n",
       "      <td>37.769223</td>\n",
       "      <td>-122.434062</td>\n",
       "      <td>casual</td>\n",
       "      <td>16</td>\n",
       "      <td>Wednesday</td>\n",
       "      <td>0 days</td>\n",
       "    </tr>\n",
       "    <tr>\n",
       "      <th>36196</th>\n",
       "      <td>1063217F8793D95A</td>\n",
       "      <td>classic_bike</td>\n",
       "      <td>2021-08-18 13:12:38</td>\n",
       "      <td>2021-08-18 13:12:38</td>\n",
       "      <td>Davis St at Jackson St</td>\n",
       "      <td>SF-D28</td>\n",
       "      <td>Davis St at Jackson St</td>\n",
       "      <td>SF-D28</td>\n",
       "      <td>37.797280</td>\n",
       "      <td>-122.398436</td>\n",
       "      <td>37.797280</td>\n",
       "      <td>-122.398436</td>\n",
       "      <td>member</td>\n",
       "      <td>13</td>\n",
       "      <td>Wednesday</td>\n",
       "      <td>0 days</td>\n",
       "    </tr>\n",
       "  </tbody>\n",
       "</table>\n",
       "</div>"
      ],
      "text/plain": [
       "                ride_id  rideable_type          started_at  \\\n",
       "2949   5D17AE4971878762  electric_bike 2021-08-02 21:35:20   \n",
       "11672  7947DFCA39279AF5   classic_bike 2021-08-15 13:58:55   \n",
       "17667  98F57167E5EFCC3D  electric_bike 2021-08-13 10:43:37   \n",
       "27970  9313D4305D6083E4   classic_bike 2021-08-04 16:48:25   \n",
       "36196  1063217F8793D95A   classic_bike 2021-08-18 13:12:38   \n",
       "\n",
       "                 ended_at        start_station_name start_station_id  \\\n",
       "2949  2021-08-02 21:35:20  22nd St Caltrain Station           SF-P30   \n",
       "11672 2021-08-15 13:58:55       S Park St at 3rd St         SF-I29-2   \n",
       "17667 2021-08-13 10:43:37               Ryland Park            SJ-K9   \n",
       "27970 2021-08-04 16:48:25               Duboce Park           SF-L19   \n",
       "36196 2021-08-18 13:12:38    Davis St at Jackson St           SF-D28   \n",
       "\n",
       "               end_station_name end_station_id  start_lat   start_lng  \\\n",
       "2949   22nd St Caltrain Station         SF-P30  37.757678 -122.391961   \n",
       "11672       S Park St at 3rd St       SF-I29-2  37.780760 -122.394989   \n",
       "17667               Ryland Park          SJ-K9  37.342758 -121.895668   \n",
       "27970               Duboce Park         SF-L19  37.769223 -122.434062   \n",
       "36196    Davis St at Jackson St         SF-D28  37.797280 -122.398436   \n",
       "\n",
       "         end_lat     end_lng member_casual  started_hour started_day duration  \n",
       "2949   37.757654 -122.391940        casual            21      Monday   0 days  \n",
       "11672  37.780760 -122.394989        member            13      Sunday   0 days  \n",
       "17667  37.342768 -121.895672        member            10      Friday   0 days  \n",
       "27970  37.769223 -122.434062        casual            16   Wednesday   0 days  \n",
       "36196  37.797280 -122.398436        member            13   Wednesday   0 days  "
      ]
     },
     "execution_count": 14,
     "metadata": {},
     "output_type": "execute_result"
    }
   ],
   "source": [
    "# findings rows where the start time is the same as the end time\n",
    "sharedf.query('started_at==ended_at').head()"
   ]
  },
  {
   "cell_type": "code",
   "execution_count": 15,
   "id": "760b0a8d",
   "metadata": {},
   "outputs": [],
   "source": [
    "# updating data frame without these rows \n",
    "sharedf=sharedf[sharedf['started_at']!=sharedf['ended_at']]"
   ]
  },
  {
   "cell_type": "code",
   "execution_count": 16,
   "id": "3641af25",
   "metadata": {},
   "outputs": [
    {
     "data": {
      "text/plain": [
       "(206990, 16)"
      ]
     },
     "execution_count": 16,
     "metadata": {},
     "output_type": "execute_result"
    }
   ],
   "source": [
    "# updated data frame\n",
    "sharedf.shape"
   ]
  },
  {
   "cell_type": "markdown",
   "id": "c752f2f9",
   "metadata": {},
   "source": [
    "## IV. Data Exploration"
   ]
  },
  {
   "cell_type": "markdown",
   "id": "33502258",
   "metadata": {},
   "source": [
    "#### User Type"
   ]
  },
  {
   "cell_type": "code",
   "execution_count": 17,
   "id": "b588d49b",
   "metadata": {},
   "outputs": [
    {
     "data": {
      "image/png": "[encoded data removed]",
      "text/plain": [
       "<Figure size 432x288 with 1 Axes>"
      ]
     },
     "metadata": {
      "needs_background": "light"
     },
     "output_type": "display_data"
    }
   ],
   "source": [
    "# user type counts\n",
    "sns.countplot(data=sharedf, x='member_casual')\n",
    "plt.show()"
   ]
  },
  {
   "cell_type": "code",
   "execution_count": 18,
   "id": "36419556",
   "metadata": {},
   "outputs": [
    {
     "data": {
      "text/plain": [
       "casual    121647\n",
       "member     85343\n",
       "Name: member_casual, dtype: int64"
      ]
     },
     "execution_count": 18,
     "metadata": {},
     "output_type": "execute_result"
    }
   ],
   "source": [
    "# type of member and their counts\n",
    "sharedf.member_casual.value_counts()"
   ]
  },
  {
   "cell_type": "markdown",
   "id": "4b1c6680",
   "metadata": {},
   "source": [
    "There are two different types of users, casual and members.  We will look into what role and trends member type plays within the data later on. For now, we can see that there are more casual rides than member rides in the data set."
   ]
  },
  {
   "cell_type": "markdown",
   "id": "14055f6f",
   "metadata": {},
   "source": [
    "#### Bike Type"
   ]
  },
  {
   "cell_type": "code",
   "execution_count": 19,
   "id": "6ce3ce13",
   "metadata": {},
   "outputs": [
    {
     "data": {
      "image/png": "[encoded data removed]",
      "text/plain": [
       "<Figure size 432x288 with 1 Axes>"
      ]
     },
     "metadata": {
      "needs_background": "light"
     },
     "output_type": "display_data"
    }
   ],
   "source": [
    "# bike type count\n",
    "sns.countplot(data=sharedf, x='rideable_type')\n",
    "plt.show()"
   ]
  },
  {
   "cell_type": "code",
   "execution_count": 20,
   "id": "ce7c2936",
   "metadata": {},
   "outputs": [
    {
     "data": {
      "text/plain": [
       "electric_bike    138576\n",
       "classic_bike      66420\n",
       "docked_bike        1994\n",
       "Name: rideable_type, dtype: int64"
      ]
     },
     "execution_count": 20,
     "metadata": {},
     "output_type": "execute_result"
    }
   ],
   "source": [
    "# type of bike and their counts\n",
    "sharedf.rideable_type.value_counts()"
   ]
  },
  {
   "cell_type": "markdown",
   "id": "96bb4189",
   "metadata": {},
   "source": [
    "Here, we can see that there are three different types of bikes that riders can use: electric bike, classic bike, docked bike. Later on in the analysis, we'll see what the role of bike type is in the data. Looking at the counts, there are a lot more electric bike rides than the other bike types."
   ]
  },
  {
   "cell_type": "markdown",
   "id": "f7d3cc85",
   "metadata": {},
   "source": [
    "#### Duration"
   ]
  },
  {
   "cell_type": "markdown",
   "id": "146c9af9",
   "metadata": {},
   "source": [
    "What are the duration statistics of a bike ride?"
   ]
  },
  {
   "cell_type": "code",
   "execution_count": 21,
   "id": "a0cd4073",
   "metadata": {},
   "outputs": [
    {
     "data": {
      "text/plain": [
       "count                       206990\n",
       "mean     0 days 00:17:56.329552152\n",
       "std      0 days 01:28:30.155098095\n",
       "min                0 days 00:00:01\n",
       "25%                0 days 00:06:24\n",
       "50%                0 days 00:10:45\n",
       "75%                0 days 00:17:32\n",
       "max                9 days 12:31:32\n",
       "Name: duration, dtype: object"
      ]
     },
     "execution_count": 21,
     "metadata": {},
     "output_type": "execute_result"
    }
   ],
   "source": [
    "# statistics of our calculated duration column\n",
    "sharedf['duration'].describe()"
   ]
  },
  {
   "cell_type": "markdown",
   "id": "32793256",
   "metadata": {},
   "source": [
    "* The average bike ride lasts 17 minutes and 56 seconds.\n",
    "* The shortest ride was 1 second.\n",
    "* The longest ride was over 9 days and 12 hours!\n",
    "* The standard deviation of the bike rides is 1 hour, 28 minutes, and 30 seconds."
   ]
  },
  {
   "cell_type": "markdown",
   "id": "f3234e0a",
   "metadata": {},
   "source": [
    "Are these statistics different different depending on rider type?"
   ]
  },
  {
   "cell_type": "markdown",
   "id": "e9a16ac0",
   "metadata": {},
   "source": [
    "#### Duration by Rider Type"
   ]
  },
  {
   "cell_type": "code",
   "execution_count": 22,
   "id": "976fff4f",
   "metadata": {},
   "outputs": [
    {
     "data": {
      "text/html": [
       "<div>\n",
       "<style scoped>\n",
       "    .dataframe tbody tr th:only-of-type {\n",
       "        vertical-align: middle;\n",
       "    }\n",
       "\n",
       "    .dataframe tbody tr th {\n",
       "        vertical-align: top;\n",
       "    }\n",
       "\n",
       "    .dataframe thead th {\n",
       "        text-align: right;\n",
       "    }\n",
       "</style>\n",
       "<table border=\"1\" class=\"dataframe\">\n",
       "  <thead>\n",
       "    <tr style=\"text-align: right;\">\n",
       "      <th></th>\n",
       "      <th>count</th>\n",
       "      <th>mean</th>\n",
       "      <th>std</th>\n",
       "      <th>min</th>\n",
       "      <th>25%</th>\n",
       "      <th>50%</th>\n",
       "      <th>75%</th>\n",
       "      <th>max</th>\n",
       "    </tr>\n",
       "    <tr>\n",
       "      <th>member_casual</th>\n",
       "      <th></th>\n",
       "      <th></th>\n",
       "      <th></th>\n",
       "      <th></th>\n",
       "      <th></th>\n",
       "      <th></th>\n",
       "      <th></th>\n",
       "      <th></th>\n",
       "    </tr>\n",
       "  </thead>\n",
       "  <tbody>\n",
       "    <tr>\n",
       "      <th>casual</th>\n",
       "      <td>121647</td>\n",
       "      <td>0 days 00:21:41.602143908</td>\n",
       "      <td>0 days 01:52:55.376285829</td>\n",
       "      <td>0 days 00:00:01</td>\n",
       "      <td>0 days 00:07:16</td>\n",
       "      <td>0 days 00:11:59</td>\n",
       "      <td>0 days 00:19:41</td>\n",
       "      <td>9 days 12:31:32</td>\n",
       "    </tr>\n",
       "    <tr>\n",
       "      <th>member</th>\n",
       "      <td>85343</td>\n",
       "      <td>0 days 00:12:35.228407719</td>\n",
       "      <td>0 days 00:27:47.868513997</td>\n",
       "      <td>0 days 00:00:01</td>\n",
       "      <td>0 days 00:05:24</td>\n",
       "      <td>0 days 00:09:13</td>\n",
       "      <td>0 days 00:14:46</td>\n",
       "      <td>1 days 00:59:56</td>\n",
       "    </tr>\n",
       "  </tbody>\n",
       "</table>\n",
       "</div>"
      ],
      "text/plain": [
       "                count                      mean                       std  \\\n",
       "member_casual                                                               \n",
       "casual         121647 0 days 00:21:41.602143908 0 days 01:52:55.376285829   \n",
       "member          85343 0 days 00:12:35.228407719 0 days 00:27:47.868513997   \n",
       "\n",
       "                          min             25%             50%             75%  \\\n",
       "member_casual                                                                   \n",
       "casual        0 days 00:00:01 0 days 00:07:16 0 days 00:11:59 0 days 00:19:41   \n",
       "member        0 days 00:00:01 0 days 00:05:24 0 days 00:09:13 0 days 00:14:46   \n",
       "\n",
       "                          max  \n",
       "member_casual                  \n",
       "casual        9 days 12:31:32  \n",
       "member        1 days 00:59:56  "
      ]
     },
     "execution_count": 22,
     "metadata": {},
     "output_type": "execute_result"
    }
   ],
   "source": [
    "sharedf.groupby('member_casual')['duration'].describe()"
   ]
  },
  {
   "cell_type": "markdown",
   "id": "57c5bb10",
   "metadata": {},
   "source": [
    "Looking at the duration statistics by rider type, we see that the casual rider has a signfiicantly longer average trip at over 21 minutes when compared to the members average trip duration of over 12 minutes. \n",
    "\n",
    "* I think that possibly the member trips might be shorter on average because they are subscribed for the service to use the bikes to commute to work. More of an A to B trip as opposed to a casual bike ride around town. "
   ]
  },
  {
   "cell_type": "markdown",
   "id": "31797be6",
   "metadata": {},
   "source": [
    "Does duration change by bike type?"
   ]
  },
  {
   "cell_type": "markdown",
   "id": "86d29e50",
   "metadata": {},
   "source": [
    "#### Duration by Bike Type"
   ]
  },
  {
   "cell_type": "code",
   "execution_count": 23,
   "id": "d31788f5",
   "metadata": {},
   "outputs": [
    {
     "data": {
      "text/html": [
       "<div>\n",
       "<style scoped>\n",
       "    .dataframe tbody tr th:only-of-type {\n",
       "        vertical-align: middle;\n",
       "    }\n",
       "\n",
       "    .dataframe tbody tr th {\n",
       "        vertical-align: top;\n",
       "    }\n",
       "\n",
       "    .dataframe thead th {\n",
       "        text-align: right;\n",
       "    }\n",
       "</style>\n",
       "<table border=\"1\" class=\"dataframe\">\n",
       "  <thead>\n",
       "    <tr style=\"text-align: right;\">\n",
       "      <th></th>\n",
       "      <th>count</th>\n",
       "      <th>mean</th>\n",
       "      <th>std</th>\n",
       "      <th>min</th>\n",
       "      <th>25%</th>\n",
       "      <th>50%</th>\n",
       "      <th>75%</th>\n",
       "      <th>max</th>\n",
       "    </tr>\n",
       "    <tr>\n",
       "      <th>rideable_type</th>\n",
       "      <th></th>\n",
       "      <th></th>\n",
       "      <th></th>\n",
       "      <th></th>\n",
       "      <th></th>\n",
       "      <th></th>\n",
       "      <th></th>\n",
       "      <th></th>\n",
       "    </tr>\n",
       "  </thead>\n",
       "  <tbody>\n",
       "    <tr>\n",
       "      <th>classic_bike</th>\n",
       "      <td>66420</td>\n",
       "      <td>0 days 00:21:41.051264679</td>\n",
       "      <td>0 days 01:31:07.944394372</td>\n",
       "      <td>0 days 00:00:01</td>\n",
       "      <td>0 days 00:06:08</td>\n",
       "      <td>0 days 00:10:44</td>\n",
       "      <td>0 days 00:18:05.250000</td>\n",
       "      <td>1 days 01:00:27</td>\n",
       "    </tr>\n",
       "    <tr>\n",
       "      <th>docked_bike</th>\n",
       "      <td>1994</td>\n",
       "      <td>0 days 01:52:54.361083249</td>\n",
       "      <td>0 days 11:48:36.947259616</td>\n",
       "      <td>0 days 00:00:01</td>\n",
       "      <td>0 days 00:13:48.250000</td>\n",
       "      <td>0 days 00:23:37</td>\n",
       "      <td>0 days 00:41:25</td>\n",
       "      <td>9 days 12:31:32</td>\n",
       "    </tr>\n",
       "    <tr>\n",
       "      <th>electric_bike</th>\n",
       "      <td>138576</td>\n",
       "      <td>0 days 00:14:46.629380267</td>\n",
       "      <td>0 days 00:18:43.740470840</td>\n",
       "      <td>0 days 00:00:01</td>\n",
       "      <td>0 days 00:06:29</td>\n",
       "      <td>0 days 00:10:40</td>\n",
       "      <td>0 days 00:17:03</td>\n",
       "      <td>0 days 08:00:31</td>\n",
       "    </tr>\n",
       "  </tbody>\n",
       "</table>\n",
       "</div>"
      ],
      "text/plain": [
       "                count                      mean                       std  \\\n",
       "rideable_type                                                               \n",
       "classic_bike    66420 0 days 00:21:41.051264679 0 days 01:31:07.944394372   \n",
       "docked_bike      1994 0 days 01:52:54.361083249 0 days 11:48:36.947259616   \n",
       "electric_bike  138576 0 days 00:14:46.629380267 0 days 00:18:43.740470840   \n",
       "\n",
       "                          min                    25%             50%  \\\n",
       "rideable_type                                                          \n",
       "classic_bike  0 days 00:00:01        0 days 00:06:08 0 days 00:10:44   \n",
       "docked_bike   0 days 00:00:01 0 days 00:13:48.250000 0 days 00:23:37   \n",
       "electric_bike 0 days 00:00:01        0 days 00:06:29 0 days 00:10:40   \n",
       "\n",
       "                                 75%             max  \n",
       "rideable_type                                         \n",
       "classic_bike  0 days 00:18:05.250000 1 days 01:00:27  \n",
       "docked_bike          0 days 00:41:25 9 days 12:31:32  \n",
       "electric_bike        0 days 00:17:03 0 days 08:00:31  "
      ]
     },
     "execution_count": 23,
     "metadata": {},
     "output_type": "execute_result"
    }
   ],
   "source": [
    "sharedf.groupby('rideable_type')['duration'].describe()"
   ]
  },
  {
   "cell_type": "markdown",
   "id": "9fd8a7c8",
   "metadata": {},
   "source": [
    "No surprise to see that the electric bike ride durations are shorter than the classic bikes.\n",
    "* Between classic and electric bikes, the average duration of a trip for classic bikes is higher than electric bikes. \n",
    "\n",
    "Something else to notice is that there were 138,576 electric bike rides and 66,420 classic bike rides in the month of August. \n",
    "* Would be interesting to know how many of each bike type there are."
   ]
  },
  {
   "cell_type": "markdown",
   "id": "1f48cf00",
   "metadata": {},
   "source": [
    "#### Duration by Day of Week"
   ]
  },
  {
   "cell_type": "code",
   "execution_count": 24,
   "id": "eeab2d43",
   "metadata": {},
   "outputs": [
    {
     "data": {
      "text/html": [
       "<div>\n",
       "<style scoped>\n",
       "    .dataframe tbody tr th:only-of-type {\n",
       "        vertical-align: middle;\n",
       "    }\n",
       "\n",
       "    .dataframe tbody tr th {\n",
       "        vertical-align: top;\n",
       "    }\n",
       "\n",
       "    .dataframe thead th {\n",
       "        text-align: right;\n",
       "    }\n",
       "</style>\n",
       "<table border=\"1\" class=\"dataframe\">\n",
       "  <thead>\n",
       "    <tr style=\"text-align: right;\">\n",
       "      <th></th>\n",
       "      <th>count</th>\n",
       "      <th>mean</th>\n",
       "      <th>std</th>\n",
       "      <th>min</th>\n",
       "      <th>25%</th>\n",
       "      <th>50%</th>\n",
       "      <th>75%</th>\n",
       "      <th>max</th>\n",
       "    </tr>\n",
       "    <tr>\n",
       "      <th>started_day</th>\n",
       "      <th></th>\n",
       "      <th></th>\n",
       "      <th></th>\n",
       "      <th></th>\n",
       "      <th></th>\n",
       "      <th></th>\n",
       "      <th></th>\n",
       "      <th></th>\n",
       "    </tr>\n",
       "  </thead>\n",
       "  <tbody>\n",
       "    <tr>\n",
       "      <th>Friday</th>\n",
       "      <td>29239</td>\n",
       "      <td>0 days 00:18:14.311467560</td>\n",
       "      <td>0 days 01:53:18.296360685</td>\n",
       "      <td>0 days 00:00:01</td>\n",
       "      <td>0 days 00:06:25</td>\n",
       "      <td>0 days 00:10:45</td>\n",
       "      <td>0 days 00:17:12</td>\n",
       "      <td>9 days 12:31:32</td>\n",
       "    </tr>\n",
       "    <tr>\n",
       "      <th>Monday</th>\n",
       "      <td>29505</td>\n",
       "      <td>0 days 00:16:17.886256566</td>\n",
       "      <td>0 days 01:28:17.296668750</td>\n",
       "      <td>0 days 00:00:01</td>\n",
       "      <td>0 days 00:06:07</td>\n",
       "      <td>0 days 00:10:14</td>\n",
       "      <td>0 days 00:16:28</td>\n",
       "      <td>8 days 03:17:17</td>\n",
       "    </tr>\n",
       "    <tr>\n",
       "      <th>Saturday</th>\n",
       "      <td>30714</td>\n",
       "      <td>0 days 00:21:47.951911180</td>\n",
       "      <td>0 days 01:52:42.685917239</td>\n",
       "      <td>0 days 00:00:01</td>\n",
       "      <td>0 days 00:07:01</td>\n",
       "      <td>0 days 00:12:04</td>\n",
       "      <td>0 days 00:20:13</td>\n",
       "      <td>8 days 05:58:54</td>\n",
       "    </tr>\n",
       "    <tr>\n",
       "      <th>Sunday</th>\n",
       "      <td>32229</td>\n",
       "      <td>0 days 00:21:11.516119023</td>\n",
       "      <td>0 days 01:20:34.842487527</td>\n",
       "      <td>0 days 00:00:01</td>\n",
       "      <td>0 days 00:06:54</td>\n",
       "      <td>0 days 00:12:05</td>\n",
       "      <td>0 days 00:20:53</td>\n",
       "      <td>5 days 12:46:46</td>\n",
       "    </tr>\n",
       "    <tr>\n",
       "      <th>Thursday</th>\n",
       "      <td>26379</td>\n",
       "      <td>0 days 00:15:47.435573751</td>\n",
       "      <td>0 days 00:54:48.467745704</td>\n",
       "      <td>0 days 00:00:01</td>\n",
       "      <td>0 days 00:06:09</td>\n",
       "      <td>0 days 00:10:13</td>\n",
       "      <td>0 days 00:16:05</td>\n",
       "      <td>2 days 04:03:22</td>\n",
       "    </tr>\n",
       "    <tr>\n",
       "      <th>Tuesday</th>\n",
       "      <td>32312</td>\n",
       "      <td>0 days 00:15:49.656226788</td>\n",
       "      <td>0 days 01:03:26.832255631</td>\n",
       "      <td>0 days 00:00:01</td>\n",
       "      <td>0 days 00:06:07</td>\n",
       "      <td>0 days 00:10:07</td>\n",
       "      <td>0 days 00:16:06</td>\n",
       "      <td>3 days 13:24:39</td>\n",
       "    </tr>\n",
       "    <tr>\n",
       "      <th>Wednesday</th>\n",
       "      <td>26612</td>\n",
       "      <td>0 days 00:15:43.578986923</td>\n",
       "      <td>0 days 01:27:58.093690373</td>\n",
       "      <td>0 days 00:00:01</td>\n",
       "      <td>0 days 00:06:08</td>\n",
       "      <td>0 days 00:10:10</td>\n",
       "      <td>0 days 00:16:00</td>\n",
       "      <td>5 days 13:47:58</td>\n",
       "    </tr>\n",
       "  </tbody>\n",
       "</table>\n",
       "</div>"
      ],
      "text/plain": [
       "             count                      mean                       std  \\\n",
       "started_day                                                              \n",
       "Friday       29239 0 days 00:18:14.311467560 0 days 01:53:18.296360685   \n",
       "Monday       29505 0 days 00:16:17.886256566 0 days 01:28:17.296668750   \n",
       "Saturday     30714 0 days 00:21:47.951911180 0 days 01:52:42.685917239   \n",
       "Sunday       32229 0 days 00:21:11.516119023 0 days 01:20:34.842487527   \n",
       "Thursday     26379 0 days 00:15:47.435573751 0 days 00:54:48.467745704   \n",
       "Tuesday      32312 0 days 00:15:49.656226788 0 days 01:03:26.832255631   \n",
       "Wednesday    26612 0 days 00:15:43.578986923 0 days 01:27:58.093690373   \n",
       "\n",
       "                        min             25%             50%             75%  \\\n",
       "started_day                                                                   \n",
       "Friday      0 days 00:00:01 0 days 00:06:25 0 days 00:10:45 0 days 00:17:12   \n",
       "Monday      0 days 00:00:01 0 days 00:06:07 0 days 00:10:14 0 days 00:16:28   \n",
       "Saturday    0 days 00:00:01 0 days 00:07:01 0 days 00:12:04 0 days 00:20:13   \n",
       "Sunday      0 days 00:00:01 0 days 00:06:54 0 days 00:12:05 0 days 00:20:53   \n",
       "Thursday    0 days 00:00:01 0 days 00:06:09 0 days 00:10:13 0 days 00:16:05   \n",
       "Tuesday     0 days 00:00:01 0 days 00:06:07 0 days 00:10:07 0 days 00:16:06   \n",
       "Wednesday   0 days 00:00:01 0 days 00:06:08 0 days 00:10:10 0 days 00:16:00   \n",
       "\n",
       "                        max  \n",
       "started_day                  \n",
       "Friday      9 days 12:31:32  \n",
       "Monday      8 days 03:17:17  \n",
       "Saturday    8 days 05:58:54  \n",
       "Sunday      5 days 12:46:46  \n",
       "Thursday    2 days 04:03:22  \n",
       "Tuesday     3 days 13:24:39  \n",
       "Wednesday   5 days 13:47:58  "
      ]
     },
     "execution_count": 24,
     "metadata": {},
     "output_type": "execute_result"
    }
   ],
   "source": [
    "# data grouped by day of the week and focusing on duration\n",
    "sharedf.groupby('started_day')['duration'].describe()"
   ]
  },
  {
   "cell_type": "markdown",
   "id": "fa196f37",
   "metadata": {},
   "source": [
    "Looking at the duration of the rides by the day of the week, we can see that the average durations from Mon-Thur stay right around 16 minutes. On friday it jumps up by about 2 minutes and on the weekend we see another increase to an average of over 21 minutes. "
   ]
  },
  {
   "cell_type": "markdown",
   "id": "f93f829a",
   "metadata": {},
   "source": [
    "#### Day of Week in Dataset"
   ]
  },
  {
   "cell_type": "markdown",
   "id": "875baa26",
   "metadata": {},
   "source": [
    "Lets see if there are any daily trends in our dataset..."
   ]
  },
  {
   "cell_type": "markdown",
   "id": "bb213384",
   "metadata": {},
   "source": [
    "#### Rider Count By Day"
   ]
  },
  {
   "cell_type": "code",
   "execution_count": 25,
   "id": "8a12f8f1",
   "metadata": {},
   "outputs": [
    {
     "data": {
      "image/png": "[encoded data removed]",
      "text/plain": [
       "<Figure size 936x432 with 1 Axes>"
      ]
     },
     "metadata": {
      "needs_background": "light"
     },
     "output_type": "display_data"
    }
   ],
   "source": [
    "# order of x axis\n",
    "order = [\"Monday\", \"Tuesday\", \"Wednesday\", \"Thursday\", \"Friday\", \"Saturday\",\"Sunday\"]\n",
    "\n",
    "# figure size\n",
    "plt.figure(figsize=(13,6))\n",
    "\n",
    "#plot\n",
    "sns.countplot(data=sharedf, x='started_day', color='lightblue', order= order)\n",
    "plt.title('Count of Riders By Day', fontsize=20)\n",
    "plt.show()"
   ]
  },
  {
   "cell_type": "code",
   "execution_count": 26,
   "id": "9ba25986",
   "metadata": {},
   "outputs": [
    {
     "data": {
      "text/plain": [
       "Tuesday      32312\n",
       "Sunday       32229\n",
       "Saturday     30714\n",
       "Monday       29505\n",
       "Friday       29239\n",
       "Wednesday    26612\n",
       "Thursday     26379\n",
       "Name: started_day, dtype: int64"
      ]
     },
     "execution_count": 26,
     "metadata": {},
     "output_type": "execute_result"
    }
   ],
   "source": [
    "# Count of riders by day\n",
    "sharedf['started_day'].value_counts()"
   ]
  },
  {
   "cell_type": "markdown",
   "id": "a29395e3",
   "metadata": {},
   "source": [
    "In the month of August, we saw the most rides were taken on Tuesday, followed by Sunday and Saturday. The least amount of riders we find are on Thursday. It is interesting to see why the most rides happen on Tuesday. This is something that I am curious about. "
   ]
  },
  {
   "cell_type": "markdown",
   "id": "6854d1ca",
   "metadata": {},
   "source": [
    "#### Daily Rider Count By Member Type"
   ]
  },
  {
   "cell_type": "code",
   "execution_count": 27,
   "id": "9fc19019",
   "metadata": {},
   "outputs": [
    {
     "data": {
      "image/png": "[encoded data removed]",
      "text/plain": [
       "<Figure size 936x504 with 1 Axes>"
      ]
     },
     "metadata": {
      "needs_background": "light"
     },
     "output_type": "display_data"
    }
   ],
   "source": [
    "# figure size\n",
    "plt.figure(figsize=(13, 7))\n",
    "\n",
    "# plot\n",
    "sns.countplot(data = sharedf, x='started_day', hue='member_casual', order =order)\n",
    "plt.title('Daily Rider Count By Member Type', fontsize = 20)\n",
    "plt.show()"
   ]
  },
  {
   "cell_type": "code",
   "execution_count": 28,
   "id": "d9527d61",
   "metadata": {},
   "outputs": [
    {
     "data": {
      "text/plain": [
       "started_day  member_casual\n",
       "Friday       casual           17358\n",
       "             member           11881\n",
       "Monday       casual           15883\n",
       "             member           13622\n",
       "Saturday     casual           20650\n",
       "             member           10064\n",
       "Sunday       casual           21184\n",
       "             member           11045\n",
       "Thursday     casual           14682\n",
       "             member           11697\n",
       "Tuesday      casual           17519\n",
       "             member           14793\n",
       "Wednesday    casual           14371\n",
       "             member           12241\n",
       "Name: ride_id, dtype: int64"
      ]
     },
     "execution_count": 28,
     "metadata": {},
     "output_type": "execute_result"
    }
   ],
   "source": [
    "sharedf.groupby(['started_day','member_casual'])['ride_id'].count()"
   ]
  },
  {
   "cell_type": "markdown",
   "id": "7ae9e55b",
   "metadata": {},
   "source": [
    "* Looking at the members, we can see that the number of riders decreases from the start of the work week reaching its lowest amounts on the weekend.\n",
    "* Contrary to the members, we see an increase in riders on the weekends. "
   ]
  },
  {
   "cell_type": "markdown",
   "id": "6a4f3c18",
   "metadata": {},
   "source": [
    "#### Start Hour of Bike Ride"
   ]
  },
  {
   "cell_type": "code",
   "execution_count": 29,
   "id": "24fefaf3",
   "metadata": {},
   "outputs": [
    {
     "data": {
      "image/png": "[encoded data removed]",
      "text/plain": [
       "<Figure size 1080x576 with 1 Axes>"
      ]
     },
     "metadata": {
      "needs_background": "light"
     },
     "output_type": "display_data"
    }
   ],
   "source": [
    "# figure size\n",
    "plt.figure(figsize=(15,8))\n",
    "\n",
    "# plot\n",
    "sns.countplot(data=sharedf, x='started_hour', color ='lightblue')\n",
    "plt.title('Bike Share Count by Hour In Day', fontsize=20)\n",
    "plt.show()"
   ]
  },
  {
   "cell_type": "markdown",
   "id": "8a42a52e",
   "metadata": {},
   "source": [
    "* Sharp rise starting at 5am and ending at 8am. Possibly showing the cummuter rush.\n",
    "* Rise starting at 3pm and rising until 5pm. Cummuters going home. "
   ]
  },
  {
   "cell_type": "markdown",
   "id": "a833504d",
   "metadata": {},
   "source": [
    "Will we see different hourly trend given by the different user types?"
   ]
  },
  {
   "cell_type": "markdown",
   "id": "c973b0c4",
   "metadata": {},
   "source": [
    "#### Start Hour of Bike Ride By User Type"
   ]
  },
  {
   "cell_type": "code",
   "execution_count": 30,
   "id": "f6ff68ce",
   "metadata": {},
   "outputs": [
    {
     "data": {
      "image/png": "[encoded data removed]",
      "text/plain": [
       "<Figure size 936x504 with 1 Axes>"
      ]
     },
     "metadata": {
      "needs_background": "light"
     },
     "output_type": "display_data"
    }
   ],
   "source": [
    "#figure size\n",
    "plt.figure(figsize=(13, 7))\n",
    "\n",
    "# plot\n",
    "sns.countplot(data = sharedf, x='started_hour', hue='member_casual')\n",
    "plt.title('Count of Member Type Rides By Hour', fontsize = 20)\n",
    "plt.show()"
   ]
  },
  {
   "cell_type": "markdown",
   "id": "0ec4920f",
   "metadata": {},
   "source": [
    "In this graph, we can better see the trends of members and casual riders. Between the times of 5am and 8am the number of member riders is almost the same or greater than that of casual users. Casual riders out number members in all other hours of the day. We can see a more computer type trend for member users."
   ]
  },
  {
   "cell_type": "markdown",
   "id": "2109bf56",
   "metadata": {},
   "source": [
    "Does the hour trend in ride share change between weekends and weekdays?\n"
   ]
  },
  {
   "cell_type": "markdown",
   "id": "668e01a3",
   "metadata": {},
   "source": [
    "#### Weekday and Weekend Hourly Trend"
   ]
  },
  {
   "cell_type": "markdown",
   "id": "a3838ea4",
   "metadata": {},
   "source": [
    "In order to see the weekday and weekend hourly trends, I will create two new dataframes, the first containing rides that occured on the weekends and the second with rides occuring on the weekdays. "
   ]
  },
  {
   "cell_type": "code",
   "execution_count": 31,
   "id": "6c0ca92b",
   "metadata": {},
   "outputs": [],
   "source": [
    "# Weekend ride df\n",
    "weekends= sharedf[sharedf['started_day'].isin(['Saturday','Sunday'])]\n",
    "\n",
    "# weekday ride df\n",
    "weekdays= sharedf[~sharedf['started_day'].isin(['Saturday','Sunday'])]"
   ]
  },
  {
   "cell_type": "code",
   "execution_count": 32,
   "id": "b16e73fa",
   "metadata": {},
   "outputs": [
    {
     "data": {
      "image/png": "[encoded data removed]",
      "text/plain": [
       "<Figure size 1080x576 with 1 Axes>"
      ]
     },
     "metadata": {
      "needs_background": "light"
     },
     "output_type": "display_data"
    }
   ],
   "source": [
    "# figure size\n",
    "plt.figure(figsize=(15,8))\n",
    "\n",
    "#plot\n",
    "sns.countplot(data=weekdays, x='started_hour', color ='lightblue')\n",
    "plt.title('Bike Share Count by Hour on Weekdays', fontsize=20)\n",
    "plt.show()"
   ]
  },
  {
   "cell_type": "markdown",
   "id": "1ac7103d",
   "metadata": {},
   "source": [
    "On weekdays, we can see somewhat of a bimodal trend in the data. We see two spikes one in the morning and one in the evening. These align with general commute times. "
   ]
  },
  {
   "cell_type": "code",
   "execution_count": 33,
   "id": "b65a35ee",
   "metadata": {},
   "outputs": [
    {
     "data": {
      "image/png": "[encoded data removed]",
      "text/plain": [
       "<Figure size 1080x576 with 1 Axes>"
      ]
     },
     "metadata": {
      "needs_background": "light"
     },
     "output_type": "display_data"
    }
   ],
   "source": [
    "# figure size\n",
    "plt.figure(figsize=(15,8))\n",
    "\n",
    "# plot\n",
    "sns.countplot(data=weekends, x='started_hour', color ='lightblue')\n",
    "plt.title('Bike Share Count by Hour On Weekends', fontsize=20)\n",
    "plt.show()"
   ]
  },
  {
   "cell_type": "markdown",
   "id": "f36efe2f",
   "metadata": {},
   "source": [
    "On weekends, we there is more of a unimodial trend in the data. No commute spikes but just a general increase in riders starting at 6am or 7am and increasing every hour until 12pm. From there, it maintains the number or riders and begins to fall starting at 4pm. "
   ]
  },
  {
   "cell_type": "markdown",
   "id": "8d21c2a3",
   "metadata": {},
   "source": [
    "Clearly, bike ride hourly trends are different given the day being a weekday or a weekend. "
   ]
  },
  {
   "cell_type": "markdown",
   "id": "4a8270fa",
   "metadata": {},
   "source": [
    "#### Station Popularity"
   ]
  },
  {
   "cell_type": "markdown",
   "id": "8fe47eb9",
   "metadata": {},
   "source": [
    "I also want to look into the data of the different stations."
   ]
  },
  {
   "cell_type": "markdown",
   "id": "c1335732",
   "metadata": {},
   "source": [
    "First I want a baseline of the different start stations..."
   ]
  },
  {
   "cell_type": "markdown",
   "id": "e3cfa936",
   "metadata": {},
   "source": [
    "#### # of Unique Start Stations"
   ]
  },
  {
   "cell_type": "code",
   "execution_count": 34,
   "id": "e00aec78",
   "metadata": {},
   "outputs": [
    {
     "data": {
      "text/plain": [
       "465"
      ]
     },
     "execution_count": 34,
     "metadata": {},
     "output_type": "execute_result"
    }
   ],
   "source": [
    "# Start station #\n",
    "sharedf['start_station_name'].nunique()"
   ]
  },
  {
   "cell_type": "markdown",
   "id": "aa0501e2",
   "metadata": {},
   "source": [
    "Starting with the start station, there are 465 different start stations in this dataset. "
   ]
  },
  {
   "cell_type": "markdown",
   "id": "31852dd2",
   "metadata": {},
   "source": [
    "#### # of Unique End Stations"
   ]
  },
  {
   "cell_type": "code",
   "execution_count": 35,
   "id": "be2a310d",
   "metadata": {},
   "outputs": [
    {
     "data": {
      "text/plain": [
       "466"
      ]
     },
     "execution_count": 35,
     "metadata": {},
     "output_type": "execute_result"
    }
   ],
   "source": [
    "# end station #\n",
    "sharedf['end_station_name'].nunique()"
   ]
  },
  {
   "cell_type": "markdown",
   "id": "40478aec",
   "metadata": {},
   "source": [
    "We also find 466 different end stations. "
   ]
  },
  {
   "cell_type": "markdown",
   "id": "ce74bb1c",
   "metadata": {},
   "source": [
    "#### Popularity of Start Stations"
   ]
  },
  {
   "cell_type": "code",
   "execution_count": 36,
   "id": "02bf1f22",
   "metadata": {},
   "outputs": [
    {
     "data": {
      "text/plain": [
       "Market St at 10th St                            2423\n",
       "Powell St BART Station (Market St at 4th St)    2038\n",
       "Powell St BART Station (Market St at 5th St)    1649\n",
       "Market St at Steuart St                         1566\n",
       "17th St at Valencia St                          1456\n",
       "                                                ... \n",
       "26th Ave at International Blvd                     5\n",
       "Minnesota St Depot                                 3\n",
       "Foothill Blvd at Harrington Ave                    3\n",
       "Bond St at High St                                 3\n",
       "23rd Ave at Foothill Blvd                          2\n",
       "Name: start_station_name, Length: 465, dtype: int64"
      ]
     },
     "execution_count": 36,
     "metadata": {},
     "output_type": "execute_result"
    }
   ],
   "source": [
    "# Can view all start station counts if you uncomment the code below this line. \n",
    "# pd.set_option('display.max_rows', 500)\n",
    "\n",
    "# start station counts\n",
    "sharedf.start_station_name.value_counts()"
   ]
  },
  {
   "cell_type": "markdown",
   "id": "e2ef2c26",
   "metadata": {},
   "source": [
    "Lookin at the complete list of start station counts, it is no surprise to see that Market St at 10th St, Powell St BART Station (Market St at 4th St), and Powell St Bart Station (Market St at 5th St) are the top start stations. This would only make sense because people commuting into the city through bart and muni would use bikes for the 2nd half of their commutes. "
   ]
  },
  {
   "cell_type": "markdown",
   "id": "3e2d8c81",
   "metadata": {},
   "source": [
    "#### Popularity of End Stations "
   ]
  },
  {
   "cell_type": "code",
   "execution_count": 37,
   "id": "d5e27d4c",
   "metadata": {},
   "outputs": [
    {
     "data": {
      "text/plain": [
       "Market St at 10th St                            2391\n",
       "Powell St BART Station (Market St at 4th St)    2105\n",
       "Powell St BART Station (Market St at 5th St)    1716\n",
       "Market St at Steuart St                         1668\n",
       "17th St at Valencia St                          1569\n",
       "                                                ... \n",
       "Bird Ave at Coe Ave                                5\n",
       "1st St at Younger Ave                              5\n",
       "Foothill Blvd at Fruitvale Ave                     5\n",
       "Bond St at High St                                 4\n",
       "Foothill Blvd at Harrington Ave                    2\n",
       "Name: end_station_name, Length: 466, dtype: int64"
      ]
     },
     "execution_count": 37,
     "metadata": {},
     "output_type": "execute_result"
    }
   ],
   "source": [
    "# Can view all start station counts if you uncomment the code below this line.\n",
    "# pd.set_option('display.max_rows', 500)\n",
    "\n",
    "# end station counts\n",
    "sharedf.end_station_name.value_counts()"
   ]
  },
  {
   "cell_type": "markdown",
   "id": "0f3c0d45",
   "metadata": {},
   "source": [
    "Looking at the end stations, there does not seem to be a big difference between the most popular start and end stations. "
   ]
  },
  {
   "cell_type": "markdown",
   "id": "1c76b4c0",
   "metadata": {},
   "source": [
    "#### Station Popularity On Weekdays"
   ]
  },
  {
   "cell_type": "markdown",
   "id": "ffa91835",
   "metadata": {},
   "source": [
    "To look at the start and end station popularity given the day, we will use the weekday and weekend data frames we made earlier."
   ]
  },
  {
   "cell_type": "markdown",
   "id": "7335a120",
   "metadata": {},
   "source": [
    "Starting off with the weekday station popularity..."
   ]
  },
  {
   "cell_type": "code",
   "execution_count": 38,
   "id": "8647b8b8",
   "metadata": {},
   "outputs": [
    {
     "data": {
      "text/plain": [
       "Market St at 10th St                                1782\n",
       "Powell St BART Station (Market St at 4th St)        1343\n",
       "Market St at Steuart St                             1129\n",
       "Berry St at 4th St                                  1111\n",
       "Montgomery St BART Station (Market St at 2nd St)    1105\n",
       "                                                    ... \n",
       "Bird Ave at Coe Ave                                    3\n",
       "Minnesota St Depot                                     2\n",
       "Bond St at High St                                     2\n",
       "Foothill Blvd at Harrington Ave                        2\n",
       "23rd Ave at Foothill Blvd                              1\n",
       "Name: start_station_name, Length: 465, dtype: int64"
      ]
     },
     "execution_count": 38,
     "metadata": {},
     "output_type": "execute_result"
    }
   ],
   "source": [
    "# Can view all start station counts if you uncomment the code below this line. \n",
    "# pd.set_option('display.max_rows', 500)\n",
    "\n",
    "# weekday station popularity\n",
    "weekdays.start_station_name.value_counts()"
   ]
  },
  {
   "cell_type": "code",
   "execution_count": 39,
   "id": "cbaec9ba",
   "metadata": {},
   "outputs": [
    {
     "data": {
      "text/plain": [
       "Market St at 10th St                                1770\n",
       "Powell St BART Station (Market St at 4th St)        1432\n",
       "Montgomery St BART Station (Market St at 2nd St)    1208\n",
       "Market St at Steuart St                             1197\n",
       "San Francisco Caltrain (Townsend St at 4th St)      1195\n",
       "                                                    ... \n",
       "Minnesota St Depot                                     4\n",
       "Foothill Blvd at Fruitvale Ave                         3\n",
       "Foothill Blvd at Harrington Ave                        2\n",
       "Bond St at High St                                     1\n",
       "1st St at Younger Ave                                  1\n",
       "Name: end_station_name, Length: 466, dtype: int64"
      ]
     },
     "execution_count": 39,
     "metadata": {},
     "output_type": "execute_result"
    }
   ],
   "source": [
    "# Can view all start station counts if you uncomment the code below this line. \n",
    "# pd.set_option('display.max_rows', 500)\n",
    "\n",
    "# weekday end station popularity\n",
    "weekdays.end_station_name.value_counts()"
   ]
  },
  {
   "cell_type": "markdown",
   "id": "2988f4fa",
   "metadata": {},
   "source": [
    "#### Station Popularity on Weekends"
   ]
  },
  {
   "cell_type": "code",
   "execution_count": 40,
   "id": "55d71402",
   "metadata": {},
   "outputs": [
    {
     "data": {
      "text/plain": [
       "Powell St BART Station (Market St at 4th St)    695\n",
       "Market St at 10th St                            641\n",
       "Fell St at Stanyan St                           612\n",
       "Powell St BART Station (Market St at 5th St)    571\n",
       "Mission Dolores Park                            532\n",
       "                                               ... \n",
       "Bond St at High St                                1\n",
       "Evans Ave at Mendell St                           1\n",
       "Foothill Blvd at Harrington Ave                   1\n",
       "26th Ave at International Blvd                    1\n",
       "Minnesota St Depot                                1\n",
       "Name: start_station_name, Length: 463, dtype: int64"
      ]
     },
     "execution_count": 40,
     "metadata": {},
     "output_type": "execute_result"
    }
   ],
   "source": [
    "# Can view all start station counts if you uncomment the code below this line. \n",
    "# pd.set_option('display.max_rows', 500)\n",
    "\n",
    "#weekend start station popularity\n",
    "weekends.start_station_name.value_counts()"
   ]
  },
  {
   "cell_type": "code",
   "execution_count": 41,
   "id": "ebc5ef9c",
   "metadata": {},
   "outputs": [
    {
     "data": {
      "text/plain": [
       "Powell St BART Station (Market St at 4th St)    673\n",
       "Market St at 10th St                            621\n",
       "Fell St at Stanyan St                           604\n",
       "Mission Dolores Park                            591\n",
       "Powell St BART Station (Market St at 5th St)    567\n",
       "                                               ... \n",
       "Lane St at Revere Ave                             2\n",
       "Minnesota St Depot                                1\n",
       "Bird Ave at Coe Ave                               1\n",
       "Judson Ave at Gennessee St                        1\n",
       "23rd Ave at Foothill Blvd                         1\n",
       "Name: end_station_name, Length: 462, dtype: int64"
      ]
     },
     "execution_count": 41,
     "metadata": {},
     "output_type": "execute_result"
    }
   ],
   "source": [
    "# Can view all start station counts if you uncomment the code below this line. \n",
    "# pd.set_option('display.max_rows', 500)\n",
    "\n",
    "# weekday end station popularity\n",
    "weekends.end_station_name.value_counts()"
   ]
  },
  {
   "cell_type": "markdown",
   "id": "2d8526b6",
   "metadata": {},
   "source": [
    "There is a lot to unpack here, but if we just take a glance at the value counts, we can see that on the weekends Mission Dolores Park becomes one of the most popular start and end stations. Mission Dolores Park is a a park where many people go to visit on the weekend etc. "
   ]
  },
  {
   "cell_type": "markdown",
   "id": "f251d19f",
   "metadata": {},
   "source": [
    "#### Most Popular Routes \n"
   ]
  },
  {
   "cell_type": "code",
   "execution_count": 42,
   "id": "8e39b548",
   "metadata": {},
   "outputs": [
    {
     "data": {
      "text/html": [
       "<div>\n",
       "<style scoped>\n",
       "    .dataframe tbody tr th:only-of-type {\n",
       "        vertical-align: middle;\n",
       "    }\n",
       "\n",
       "    .dataframe tbody tr th {\n",
       "        vertical-align: top;\n",
       "    }\n",
       "\n",
       "    .dataframe thead th {\n",
       "        text-align: right;\n",
       "    }\n",
       "</style>\n",
       "<table border=\"1\" class=\"dataframe\">\n",
       "  <thead>\n",
       "    <tr style=\"text-align: right;\">\n",
       "      <th></th>\n",
       "      <th>start_station_name</th>\n",
       "      <th>end_station_name</th>\n",
       "      <th>count</th>\n",
       "    </tr>\n",
       "  </thead>\n",
       "  <tbody>\n",
       "    <tr>\n",
       "      <th>0</th>\n",
       "      <td>Fell St at Stanyan St</td>\n",
       "      <td>Fell St at Stanyan St</td>\n",
       "      <td>154</td>\n",
       "    </tr>\n",
       "    <tr>\n",
       "      <th>1</th>\n",
       "      <td>Buchanan St at North Point St</td>\n",
       "      <td>Buchanan St at North Point St</td>\n",
       "      <td>139</td>\n",
       "    </tr>\n",
       "    <tr>\n",
       "      <th>2</th>\n",
       "      <td>4th St at Mission Bay Blvd S</td>\n",
       "      <td>Esprit Park</td>\n",
       "      <td>110</td>\n",
       "    </tr>\n",
       "    <tr>\n",
       "      <th>3</th>\n",
       "      <td>Fillmore St at Jefferson St</td>\n",
       "      <td>Fillmore St at Jefferson St</td>\n",
       "      <td>108</td>\n",
       "    </tr>\n",
       "    <tr>\n",
       "      <th>4</th>\n",
       "      <td>Powell St BART Station (Market St at 4th St)</td>\n",
       "      <td>Powell St BART Station (Market St at 4th St)</td>\n",
       "      <td>101</td>\n",
       "    </tr>\n",
       "    <tr>\n",
       "      <th>5</th>\n",
       "      <td>48th Ave at Cabrillo St</td>\n",
       "      <td>48th Ave at Cabrillo St</td>\n",
       "      <td>99</td>\n",
       "    </tr>\n",
       "    <tr>\n",
       "      <th>6</th>\n",
       "      <td>North Point St at Polk St</td>\n",
       "      <td>North Point St at Polk St</td>\n",
       "      <td>94</td>\n",
       "    </tr>\n",
       "    <tr>\n",
       "      <th>7</th>\n",
       "      <td>Market St at 10th St</td>\n",
       "      <td>Powell St BART Station (Market St at 4th St)</td>\n",
       "      <td>94</td>\n",
       "    </tr>\n",
       "    <tr>\n",
       "      <th>8</th>\n",
       "      <td>Esprit Park</td>\n",
       "      <td>4th St at Mission Bay Blvd S</td>\n",
       "      <td>92</td>\n",
       "    </tr>\n",
       "    <tr>\n",
       "      <th>9</th>\n",
       "      <td>El Embarcadero at Grand Ave</td>\n",
       "      <td>El Embarcadero at Grand Ave</td>\n",
       "      <td>85</td>\n",
       "    </tr>\n",
       "  </tbody>\n",
       "</table>\n",
       "</div>"
      ],
      "text/plain": [
       "                             start_station_name  \\\n",
       "0                         Fell St at Stanyan St   \n",
       "1                 Buchanan St at North Point St   \n",
       "2                  4th St at Mission Bay Blvd S   \n",
       "3                   Fillmore St at Jefferson St   \n",
       "4  Powell St BART Station (Market St at 4th St)   \n",
       "5                       48th Ave at Cabrillo St   \n",
       "6                     North Point St at Polk St   \n",
       "7                          Market St at 10th St   \n",
       "8                                   Esprit Park   \n",
       "9                   El Embarcadero at Grand Ave   \n",
       "\n",
       "                               end_station_name  count  \n",
       "0                         Fell St at Stanyan St    154  \n",
       "1                 Buchanan St at North Point St    139  \n",
       "2                                   Esprit Park    110  \n",
       "3                   Fillmore St at Jefferson St    108  \n",
       "4  Powell St BART Station (Market St at 4th St)    101  \n",
       "5                       48th Ave at Cabrillo St     99  \n",
       "6                     North Point St at Polk St     94  \n",
       "7  Powell St BART Station (Market St at 4th St)     94  \n",
       "8                  4th St at Mission Bay Blvd S     92  \n",
       "9                   El Embarcadero at Grand Ave     85  "
      ]
     },
     "execution_count": 42,
     "metadata": {},
     "output_type": "execute_result"
    }
   ],
   "source": [
    "pd.set_option('display.max_rows', 10)\n",
    "sharedf[['start_station_name','end_station_name']].value_counts().reset_index(name='count').head(10)"
   ]
  },
  {
   "cell_type": "markdown",
   "id": "c7c6e98c",
   "metadata": {},
   "source": [
    "Here I show what the 10 most popular routes. Most have the same starting and end point. "
   ]
  },
  {
   "cell_type": "markdown",
   "id": "22da4e3f",
   "metadata": {},
   "source": [
    "# V. Conclusion "
   ]
  },
  {
   "cell_type": "markdown",
   "id": "a8b0a54f",
   "metadata": {},
   "source": [
    "Through the analysis of this data set, I found that there were a few data irregulairties. In terms of the time stamps, I saw that there were negative and zero time durations of rides. I deleted these from the dataframe. I also saw very long rides that lasted for several days and in some cases over a week. There is no way to verify this data so I decided to leave it in as rides with durations of these lengths did not make up the majority of the data, in the contrary actually. \n",
    "\n",
    "I have learned that members have shorter ride times and different daily riding trends where they show more of a commute pattern. We aslo saw that hourly trends differ when the days are weekends or weekdays. We also looked into the routes and stations of the rides which showed more usage in commuting hotpsots near bart and muni stations. \n",
    "\n",
    "I would like to look more into the routes that the riders take. We touched up on the popularity but I would love to see durations times of the most popular routes and even what the durations of these routes would be given the different bike types.  "
   ]
  }
 ],
 "metadata": {
  "kernelspec": {
   "display_name": "Python 3",
   "language": "python",
   "name": "python3"
  },
  "language_info": {
   "codemirror_mode": {
    "name": "ipython",
    "version": 3
   },
   "file_extension": ".py",
   "mimetype": "text/x-python",
   "name": "python",
   "nbconvert_exporter": "python",
   "pygments_lexer": "ipython3",
   "version": "3.8.8"
  }
 },
 "nbformat": 4,
 "nbformat_minor": 5
}
